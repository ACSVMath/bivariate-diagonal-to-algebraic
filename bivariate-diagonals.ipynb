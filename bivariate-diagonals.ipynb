{
 "cells": [
  {
   "cell_type": "markdown",
   "id": "cadfb84e-0bc9-4c5c-bb3f-25e574e583e8",
   "metadata": {},
   "source": [
    "The following notebook gives a SageMath implementation to compute an algebraic equation satisfied by the **main diagonal** \n",
    "$$ d(t) = \\sum_{n \\geq 0} f_{n,n}t^n $$\n",
    "of a bivariate rational function $F(x,y)$ with power series expansion\n",
    "$$ F(x,y) = \\sum_{i,j \\geq 0} f_{i,j} x^i y^j.$$\n",
    "\n",
    "The method comes from the paper *Algebraic diagonals and walks: algorithms, bounds, complexity* by Bostan, Dumont, and Salvy (Journal of Symbolic Computation, Volume 83, Pages 68-92, 2017). \n",
    "\n",
    "This implementation was created by Stephen Melczer and Peiran Tao (both at the University of Waterloo). It is still undergoing full testing -- feel free to send any comments or bug reports to the authors."
   ]
  },
  {
   "cell_type": "code",
   "execution_count": 1,
   "id": "275b7e4b-dddb-49bd-8454-7dad43980f9d",
   "metadata": {},
   "outputs": [],
   "source": [
    "def AlgebraicResidues(P,Q,S):\n",
    "    r\"\"\"Compute annihilating polynomial of the residues of a rational function at the zeroes of another polynomial.\n",
    "    Taken from Algorithm 1 of Bostan, Dumont, and Salvy (2017).\n",
    "\n",
    "    INPUT:\n",
    "\n",
    "    * ``P``      -- Polynomial in K[y].\n",
    "    * ``Q``      -- Polynomial in K[y] with non-zero constant.\n",
    "    * ``S``      -- Polynomial in K[y] that is a divisor of Q such that S and Q/S are coprime (S can be Q).\n",
    "\n",
    "    OUTPUT:\n",
    "\n",
    "    A polynomial R(z) in K[z] that annihilates the residues of P/Q at the roots of S.\n",
    "    \"\"\"\n",
    "    # Build needed Sage objects\n",
    "    R = P.parent()                                 # R = K[y]\n",
    "    y = R.gen()\n",
    "    B.<t> = PowerSeriesRing(FractionField(R), 't') # B = K(y)[[t]]\n",
    "\n",
    "    # Compute square-free decomposition of S\n",
    "    decomp = list(S.squarefree_decomposition())\n",
    "    m = len(decomp)\n",
    "    Result = [1] * m\n",
    "\n",
    "    # Iterate over factors in square-free decomposition\n",
    "    for i in range(m):\n",
    "        # decomp[i] = (Q_{i+1}, d_{i+1})\n",
    "        Qi = decomp[i][0]\n",
    "        di = decomp[i][1]\n",
    "\n",
    "        if Qi.degree() == 0:\n",
    "            R[i] = 1                                # Ri = 1\n",
    "        else:\n",
    "            Ui = Q // Qi^di                         # Ui = Q/Q_i^i\n",
    "            Vi = (Qi(y+t) - Qi(y)).quo_rem(t)[0]    # Vi = (Qi(y+t)-Qi(y))/t\n",
    "\n",
    "            # Take coefficient Si = [t^(di-1)] P(y+t) / (Ui(y+t) * Vi^di) \n",
    "            # by expanding the rational function as a power series to O(t^di)\n",
    "            Di = Ui(y+t) * Vi^di\n",
    "            Yi = P(y+t) / (Di + O(t^di))\n",
    "            Si = Yi[di-1]\n",
    "\n",
    "            # Extract numerator and denominator of Si, and make sure they are coprime\n",
    "            Ai = Si.numerator()\n",
    "            Bi = Si.denominator()\n",
    "            G = Ai.gcd(Bi)\n",
    "            Ai = Ai // G\n",
    "            Bi = Bi // G \n",
    "\n",
    "            # Create polynomial rings to perform resultant computation\n",
    "            Lz.<z> = PolynomialRing(R.base_ring(), 'z') # Lz = K[z]\n",
    "            Ly.<y> = PolynomialRing(Lz, 'y')            # Ly = K[z][y]\n",
    "\n",
    "            # Compute desired resultant for the term in the square-free decomposition\n",
    "            H = Ly(Ai) - z * Ly(Bi)\n",
    "            Result[i] = H.resultant(Ly(Qi))  # Resultant taken over y, so result is in K[z]\n",
    "\n",
    "    return (prod(Result[i] for i in range(m))).monic() # Other formulas require our output to be monic"
   ]
  },
  {
   "cell_type": "code",
   "execution_count": 2,
   "id": "177231a8-95b2-469b-a7db-cfe7e7f063ad",
   "metadata": {},
   "outputs": [],
   "source": [
    "def PureComposedSum(P, c, var):\n",
    "    r\"\"\"Compute annihilating polynomial for all sums of c roots of a polynomial.\n",
    "    Taken from Algorithm 2 of Bostan, Dumont, and Salvy (2017).\n",
    "\n",
    "    INPUT:\n",
    "\n",
    "    * ``P``      -- A univariate or multivariate polynomial WITHOUT y and z among its variables\n",
    "    * ``c``      -- An integer between 1 and deg(P) (inclusive)\n",
    "    * ``var``    -- A string or variable specifying a variable that appears in P\n",
    "\n",
    "    OUTPUT:\n",
    "\n",
    "    A polynomial (Σ_cP)(y) in K[y] whose roots are the sums of all c-subsets of the roots of P.\n",
    "    \"\"\"\n",
    "\n",
    "    # TODO: Add tests that var is a variable of P and that z and y do not appear in P\n",
    "    # TODO: Fix overloading of Y and y in univariate and multivariate rings\n",
    "\n",
    "    # Convert P to a polynomial in var \n",
    "    # K is the polynomial ring in the remaining variables\n",
    "    P_var = P.polynomial(P.parent()(var))\n",
    "    K = P_var.base_ring()\n",
    "    d = P_var.degree()\n",
    "    D = binomial(d,c)\n",
    "\n",
    "    # Create rings needed for our computations\n",
    "    R1 = PolynomialRing(K, names=(var, 'z'))\n",
    "    R2.<Y> = K[['Y']]\n",
    "    y, z = R1.gens()\n",
    "\n",
    "    # Cast P into K[[Y]]\n",
    "    P_Y = P_var(Y)\n",
    "    P_Y_der = P_Y.derivative()\n",
    "\n",
    "    # Compute reciprocal polynomials of P and P' (polynomials with reversed coefficient sequences)\n",
    "    recP = Y^d * P_Y(1/Y) \n",
    "    recP_der = Y^(d-1) * P_Y_der(1/Y)\n",
    "\n",
    "    # Introduce bivariate power series ring\n",
    "    R3.<Y,Z> = K[['Y,Z']]\n",
    "\n",
    "    # Compute terms in generating function for Newton Sum of P and take Hadamard product with exp(Y)\n",
    "    # Note: for now S lies in K[[Y,Z]] even though it depends only on Y\n",
    "    NP = recP_der/(recP + O(Y^(D+1)))\n",
    "    S = sum((NP[n] / factorial(n)) * Y^n for n in range(D+1))\n",
    "\n",
    "    # Compute intermediate sum, take its exponential, and extract desired term\n",
    "    Sum = sum((-1)^(n-1) * (S(n*Y,0) / n) * Z^n for n in range(1,c+1))\n",
    "    F = (Sum + O(Y^(c+D+1))).exp()\n",
    "    Fc = sum(C * y^e[0] for e, C in F.polynomial().dict().items() if e[0] < D+1 and e[1] == c)\n",
    "    \n",
    "    # Compute the Newton Sum of Σ_cP and cast into K[[Y]]\n",
    "    NSumP = sum(Fc[n,0] * factorial(n) * Y^n for n in range(D+1))\n",
    "    NSumP_Y = R2(NSumP)\n",
    "\n",
    "    # Recover Σ_cP by integrating and taking an exponential\n",
    "    integrand = (D - NSumP_Y) / R2(Y)\n",
    "    IntegralEXP = (integrand.integral()+O(R2(Y)^(D+1))).exp()\n",
    "    U = IntegralEXP.truncate(D+1)(y)\n",
    "    recU = y^(U.degree()) * U(1/y,0)\n",
    "\n",
    "    R4.<y> = PolynomialRing(K, 'y')\n",
    "    return R4(recU(y,0))"
   ]
  },
  {
   "cell_type": "code",
   "execution_count": 3,
   "id": "2a0673a7-fbe0-4a04-ae9b-6dffe633599a",
   "metadata": {},
   "outputs": [],
   "source": [
    "def AlgebraicDiagonal(f, params=[], output_vars=None):\n",
    "    r\"\"\"Compute annihilating polynomial for the (main) diagonal of a bivariate rational function.\n",
    "    Taken from Algorithm 3 of Bostan, Dumont, and Salvy (2017).\n",
    "\n",
    "    INPUT:\n",
    "\n",
    "    * ``f``            -- A symbolic rational function with two variables (can have additional symbolic parameters)\n",
    "    * ``params``       -- (optional) List of variables in f that should be considered parameters\n",
    "    * ``output_vars``  -- (optional) Variables for the resulting polynomial (if None then output is polynomial in t and y)\n",
    "\n",
    "    OUTPUT:\n",
    "\n",
    "    A polynomial P(t,y) in K[t][y] such that the diagonal d(t) of f satisfies P(t,d(t)) = 0,\n",
    "    where output_vars = (t,y). Note, in particular, that the dependent variable for the diagonal\n",
    "    is the first element of output_vars.\n",
    "    \"\"\"\n",
    "\n",
    "    # TODO: Verify local variable names don't clash with input variables\n",
    "    # TODO: Take more care with variable names in final section of code\n",
    "    # TODO: Fix case with parameters (need to use proof.WithProof('polynomial', False) when factoring) \n",
    "    \n",
    "    # Extract variables and define ring structure\n",
    "    f_variables = [v for v in f.variables() if v not in params]\n",
    "\n",
    "    if len(params) == 0:\n",
    "        K = QQ\n",
    "    else:\n",
    "        raise NotImplementedError(\"The case with parameters is still in progress\")\n",
    "        \n",
    "    R = PolynomialRing(K, names = f_variables)\n",
    "\n",
    "    # Verify f has two (non-parameter) variables\n",
    "    if len(f_variables) != 2:\n",
    "        raise ValueError(\"Input f needs to have exactly 2 non-parameter variables\")\n",
    "        \n",
    "    local_x, local_y = R.gens()\n",
    "\n",
    "    # Verify f is a bivariate rational function (possibly with parameters)\n",
    "    try:\n",
    "        A, B = R(f.numerator()), R(f.denominator())\n",
    "    except:\n",
    "        raise ValueError(\"Input f not a rational function in all variables and parameters\")\n",
    "\n",
    "    # Compute needed quantities\n",
    "    dA = max(i - j for (i,j) in A.dict())\n",
    "    dB = max(i - j for (i,j) in B.dict())\n",
    "    a = dB - dA - 1\n",
    "\n",
    "    # Compute number of branches that go to 0 as the dependent variable goes to 0\n",
    "    pol = R(local_y^dB * B(local_x/local_y, local_y))\n",
    "    pol_star = prod([p for (p,_) in pol.factor()])\n",
    "    pol_star_lowest = pol_star.polynomial(local_x)[pol_star.polynomial(local_x).valuation()]\n",
    "    c = pol_star_lowest.polynomial(local_y).valuation()\n",
    "\n",
    "    # Define quantities we use to compute residues\n",
    "    Kt.<t> = FractionField(K['t'])\n",
    "    Kt_Y.<Y> = Kt['Y']\n",
    "    P = Y^dA * A(t/Y, Y)\n",
    "    Q = Y^dB * B(t/Y, Y)\n",
    "    \n",
    "    Pt = Kt_Y(P)\n",
    "    Qt = Kt_Y(Q)\n",
    "\n",
    "    # Compute residues -- note formula in Bostan, Dumont, and Salvy (2017) has typo when a < 0\n",
    "    if a < 0:\n",
    "        R = AlgebraicResidues(Pt, Y^(-a) * Qt, Qt)\n",
    "    else:\n",
    "        R = AlgebraicResidues(Y^a * Pt, Qt, Qt)\n",
    "    \n",
    "    T.<Z> = (parent(R).base_ring())['Z']\n",
    "    R = R(Z)\n",
    "    \n",
    "    Phi = (PureComposedSum(R,c,'Z')).numerator()\n",
    "    \n",
    "    if a < 0:\n",
    "        r = AlgebraicResidues(Pt, Y^(-a)*Qt, Y^(-a))\n",
    "        r = parent(Phi)(r)\n",
    "    \n",
    "    # Determine desired output variables\n",
    "    y = parent(Phi)(local_y)    \n",
    "    if output_vars == None:\n",
    "        output_t, output_y  = (t, y)\n",
    "    elif len(output_vars) == 2:\n",
    "        output_t, output_y  = output_vars\n",
    "    else:\n",
    "        raise ValueError(\"output_vars needs to specify exactly 2 variables\")\n",
    "\n",
    "    Output_Ring = QQ[output_t][output_y]\n",
    "\n",
    "    # Convert to the desired output variables and return result\n",
    "    if a < 0:\n",
    "        return Output_Ring(Phi(r).numerator().subs(t=output_t, y=output_y))\n",
    "    else:\n",
    "        return Output_Ring(Phi.subs(t=output_t, y=output_y))"
   ]
  },
  {
   "cell_type": "code",
   "execution_count": null,
   "id": "0192f450-9921-434d-b0cb-4030dfc000c7",
   "metadata": {},
   "outputs": [],
   "source": []
  },
  {
   "cell_type": "markdown",
   "id": "d5594aad-8ed6-4998-8218-94c29d39566c",
   "metadata": {},
   "source": [
    "We end with some tests of the implementation."
   ]
  },
  {
   "cell_type": "code",
   "execution_count": 4,
   "id": "e9bad22d-4905-4301-a703-76eee76ec0d9",
   "metadata": {},
   "outputs": [
    {
     "data": {
      "text/plain": [
       "(x, y, a, b)"
      ]
     },
     "execution_count": 4,
     "metadata": {},
     "output_type": "execute_result"
    }
   ],
   "source": [
    "var('x y a b')"
   ]
  },
  {
   "cell_type": "code",
   "execution_count": 5,
   "id": "bbd18f6b-9410-41f6-ad2d-85ffe7a1803b",
   "metadata": {},
   "outputs": [
    {
     "data": {
      "text/plain": [
       "(t - 1/4)*y^2 + 1/4"
      ]
     },
     "execution_count": 5,
     "metadata": {},
     "output_type": "execute_result"
    }
   ],
   "source": [
    "# Example 1: \n",
    "# The diagonal of F = 1/(1-x-y) is (1-4t)^(-1/2)\n",
    "# This returns (t-1/4)y^2 + 1/4\n",
    "AlgebraicDiagonal(1/(1-x-y))"
   ]
  },
  {
   "cell_type": "code",
   "execution_count": 6,
   "id": "7053f9c5-24c0-4b50-93d6-d27dafffbdcd",
   "metadata": {},
   "outputs": [
    {
     "data": {
      "text/plain": [
       "(t^2 - 6*t + 1)*y^2 - 1"
      ]
     },
     "execution_count": 6,
     "metadata": {},
     "output_type": "execute_result"
    }
   ],
   "source": [
    "# Example 2: Example 6.3.8 from Stanley's Enumerative Combinatorics Vol II\n",
    "# The diagonal of F = 1/(1-x-y-xy) is (1-6t+t^2)^(-1/2)\n",
    "# This gives (t^2-6t+1)y^2 - 1\n",
    "AlgebraicDiagonal(1/(1-x-y-x*y))"
   ]
  },
  {
   "cell_type": "code",
   "execution_count": 7,
   "id": "50f311fa-4446-46cc-92e7-dab02664124b",
   "metadata": {},
   "outputs": [
    {
     "data": {
      "text/plain": [
       "(t^2 - 3*t + 1/4)*y^2 + (-t^2 + 3*t - 1/4)*y + 1/4*t^2 - 3/4*t"
      ]
     },
     "execution_count": 7,
     "metadata": {},
     "output_type": "execute_result"
    }
   ],
   "source": [
    "# Example 3: Example 6.3.9 from Stanley's Enumerative Combinatorics Vol II\n",
    "# The diagonal of F = (1-x)(1-y)/(1-2x-2y+2xy) is 1/2 * (1+(1-12t+4t^2)^(-1/2))\n",
    "# Expect (t^2 - 3*t + 1/4)*y^2 + (-t^2 + 3*t - 1/4)*y + 1/4*t^2 - 3/4*t\n",
    "A = (1-x)*(1-y)\n",
    "B = 1-2*x-2*y+2*x*y\n",
    "AlgebraicDiagonal(A/B)"
   ]
  },
  {
   "cell_type": "code",
   "execution_count": 8,
   "id": "c9d5ad21-db13-495a-94be-b9ecfe29de61",
   "metadata": {},
   "outputs": [
    {
     "data": {
      "text/plain": [
       "t*y^2 - y + 1"
      ]
     },
     "execution_count": 8,
     "metadata": {},
     "output_type": "execute_result"
    }
   ],
   "source": [
    "# Example 4:\n",
    "# The diagonal of F = (2*y^3*x + 3*y^2*x + 2*y*x - y + x - 1)/(y^2*x + 2*y*x + x - 1)\n",
    "# is the Catalan generaing function. This gives ty^2 - y + 1.\n",
    "A = 2*y^3*x + 3*y^2*x + 2*y*x - y + x - 1\n",
    "B = y^2*x + 2*y*x + x - 1\n",
    "AlgebraicDiagonal(A/B)"
   ]
  },
  {
   "cell_type": "code",
   "execution_count": 9,
   "id": "62210b64-1dc9-4f61-bcb8-609d1b07e032",
   "metadata": {},
   "outputs": [
    {
     "data": {
      "text/plain": [
       "y^4 - 2*y^3 + (2*t + 1)*y^2 - 2*t*y + 4*t^3"
      ]
     },
     "execution_count": 9,
     "metadata": {},
     "output_type": "execute_result"
    }
   ],
   "source": [
    "# Example 5: Bicoloured supertrees\n",
    "# The diagonal of this function is a root of y^4 - 2*y^3 + (2*t + 1)*y^2 - 2*t*y + 4*t^3\n",
    "A = 2*x^2*y*(2*x^5*y^2 - 3*x^3*y + x + 2*x^2*y - 1)\n",
    "B = x^5*y^2 + 2*x^2*y - 2*x^3*y + 4*y + x - 2\n",
    "AlgebraicDiagonal(A/B) "
   ]
  },
  {
   "cell_type": "code",
   "execution_count": 10,
   "id": "641818da-4bf2-4ad3-a504-5ff2a90d6b68",
   "metadata": {},
   "outputs": [
    {
     "data": {
      "text/plain": [
       "b^4 - 2*b^3 + (2*a + 1)*b^2 - 2*a*b + 4*a^3"
      ]
     },
     "execution_count": 10,
     "metadata": {},
     "output_type": "execute_result"
    }
   ],
   "source": [
    "AlgebraicDiagonal(A/B, output_vars=[a,b]) "
   ]
  },
  {
   "cell_type": "code",
   "execution_count": null,
   "id": "05a0ddf1-6b14-49e4-9f0a-04cf60f6c52a",
   "metadata": {},
   "outputs": [],
   "source": []
  },
  {
   "cell_type": "code",
   "execution_count": null,
   "id": "82c4d36f-dbd3-4dcf-8b3b-37731ecdc482",
   "metadata": {},
   "outputs": [],
   "source": []
  }
 ],
 "metadata": {
  "kernelspec": {
   "display_name": "SageMath 10.7",
   "language": "sage",
   "name": "sagemath-10.7"
  },
  "language_info": {
   "codemirror_mode": {
    "name": "ipython",
    "version": 3
   },
   "file_extension": ".py",
   "mimetype": "text/x-python",
   "name": "python",
   "nbconvert_exporter": "python",
   "pygments_lexer": "ipython3",
   "version": "3.13.3"
  }
 },
 "nbformat": 4,
 "nbformat_minor": 5
}
